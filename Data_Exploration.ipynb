{
 "nbformat": 4,
 "nbformat_minor": 2,
 "metadata": {
  "language_info": {
   "name": "python",
   "codemirror_mode": {
    "name": "ipython",
    "version": 3
   },
   "version": "3.8.2-final"
  },
  "orig_nbformat": 2,
  "file_extension": ".py",
  "mimetype": "text/x-python",
  "name": "python",
  "npconvert_exporter": "python",
  "pygments_lexer": "ipython3",
  "version": 3,
  "kernelspec": {
   "name": "python3",
   "display_name": "Python 3"
  }
 },
 "cells": [
  {
   "cell_type": "code",
   "execution_count": 1,
   "metadata": {},
   "outputs": [],
   "source": [
    "import pandas as pd\n",
    "import numpy as np"
   ]
  },
  {
   "cell_type": "code",
   "execution_count": 2,
   "metadata": {},
   "outputs": [],
   "source": [
    "#import datasets\n",
    "features = pd.read_csv('Inputs/CSV/features.csv')\n",
    "sales = pd.read_csv('Inputs/CSV/sales.csv')\n",
    "stores = pd.read_csv('Inputs/CSV/stores.csv')"
   ]
  },
  {
   "cell_type": "code",
   "execution_count": 3,
   "metadata": {},
   "outputs": [],
   "source": [
    "#align date column\n",
    "features['Date'] = pd.to_datetime(features['Date'])\n",
    "sales['Date'] = pd.to_datetime(sales['Date'])"
   ]
  },
  {
   "cell_type": "code",
   "execution_count": 4,
   "metadata": {},
   "outputs": [],
   "source": [
    "#merge dataframes\n",
    "total = pd.merge(sales,features, on = ['Store','Date', 'IsHoliday'], how = 'left')\n",
    "total = pd.merge(total,stores, on = ['Store'], how = 'left')"
   ]
  },
  {
   "cell_type": "code",
   "execution_count": 5,
   "metadata": {},
   "outputs": [],
   "source": [
    "#fill NAs with 0\n",
    "total = total.fillna(0)"
   ]
  },
  {
   "cell_type": "code",
   "execution_count": 6,
   "metadata": {},
   "outputs": [],
   "source": [
    "#encode column 'Type' as numbers\n",
    "types_encoded, types = total['Type'].factorize()\n",
    "total['Type'] = types_encoded"
   ]
  },
  {
   "cell_type": "code",
   "execution_count": 7,
   "metadata": {},
   "outputs": [],
   "source": [
    "#change temperature to degrees celsius\n",
    "total['Temperature'] = (total['Temperature'] - 32) * 5/9"
   ]
  },
  {
   "cell_type": "code",
   "execution_count": 8,
   "metadata": {},
   "outputs": [],
   "source": [
    "#convert IsHoliday column from boolean to int\n",
    "total['IsHoliday'] = total['IsHoliday'] * 1"
   ]
  },
  {
   "cell_type": "code",
   "execution_count": 9,
   "metadata": {},
   "outputs": [
    {
     "output_type": "execute_result",
     "data": {
      "text/plain": "    Store  Dept       Date  Weekly_Sales  IsHoliday  Temperature  Fuel_Price  \\\n0       1     1 2010-05-02      24924.50          0     5.727778       2.572   \n1       1     1 2010-12-02      46039.49          1     3.616667       2.548   \n2       1     1 2010-02-19      41595.55          0     4.405556       2.514   \n3       1     1 2010-02-26      19403.54          0     8.127778       2.561   \n4       1     1 2010-05-03      21827.90          0     8.055556       2.625   \n5       1     1 2010-12-03      21043.39          0    14.327778       2.667   \n6       1     1 2010-03-19      22136.64          0    12.544444       2.720   \n7       1     1 2010-03-26      26229.21          0    10.805556       2.732   \n8       1     1 2010-02-04      57258.43          0    16.816667       2.719   \n9       1     1 2010-09-04      42960.91          0    18.811111       2.770   \n10      1     1 2010-04-16      17596.96          0    19.066667       2.808   \n11      1     1 2010-04-23      16145.35          0    18.244444       2.795   \n12      1     1 2010-04-30      16555.11          0    19.672222       2.780   \n13      1     1 2010-07-05      17413.94          0    22.527778       2.835   \n14      1     1 2010-05-14      18926.74          0    23.766667       2.854   \n\n    MarkDown1  MarkDown2  MarkDown3  MarkDown4  MarkDown5         CPI  \\\n0         0.0        0.0        0.0        0.0        0.0  211.096358   \n1         0.0        0.0        0.0        0.0        0.0  211.242170   \n2         0.0        0.0        0.0        0.0        0.0  211.289143   \n3         0.0        0.0        0.0        0.0        0.0  211.319643   \n4         0.0        0.0        0.0        0.0        0.0  211.350143   \n5         0.0        0.0        0.0        0.0        0.0  211.380643   \n6         0.0        0.0        0.0        0.0        0.0  211.215635   \n7         0.0        0.0        0.0        0.0        0.0  211.018042   \n8         0.0        0.0        0.0        0.0        0.0  210.820450   \n9         0.0        0.0        0.0        0.0        0.0  210.622857   \n10        0.0        0.0        0.0        0.0        0.0  210.488700   \n11        0.0        0.0        0.0        0.0        0.0  210.439123   \n12        0.0        0.0        0.0        0.0        0.0  210.389546   \n13        0.0        0.0        0.0        0.0        0.0  210.339968   \n14        0.0        0.0        0.0        0.0        0.0  210.337426   \n\n    Unemployment  Type    Size  \n0          8.106     0  151315  \n1          8.106     0  151315  \n2          8.106     0  151315  \n3          8.106     0  151315  \n4          8.106     0  151315  \n5          8.106     0  151315  \n6          8.106     0  151315  \n7          8.106     0  151315  \n8          7.808     0  151315  \n9          7.808     0  151315  \n10         7.808     0  151315  \n11         7.808     0  151315  \n12         7.808     0  151315  \n13         7.808     0  151315  \n14         7.808     0  151315  ",
      "text/html": "<div>\n<style scoped>\n    .dataframe tbody tr th:only-of-type {\n        vertical-align: middle;\n    }\n\n    .dataframe tbody tr th {\n        vertical-align: top;\n    }\n\n    .dataframe thead th {\n        text-align: right;\n    }\n</style>\n<table border=\"1\" class=\"dataframe\">\n  <thead>\n    <tr style=\"text-align: right;\">\n      <th></th>\n      <th>Store</th>\n      <th>Dept</th>\n      <th>Date</th>\n      <th>Weekly_Sales</th>\n      <th>IsHoliday</th>\n      <th>Temperature</th>\n      <th>Fuel_Price</th>\n      <th>MarkDown1</th>\n      <th>MarkDown2</th>\n      <th>MarkDown3</th>\n      <th>MarkDown4</th>\n      <th>MarkDown5</th>\n      <th>CPI</th>\n      <th>Unemployment</th>\n      <th>Type</th>\n      <th>Size</th>\n    </tr>\n  </thead>\n  <tbody>\n    <tr>\n      <th>0</th>\n      <td>1</td>\n      <td>1</td>\n      <td>2010-05-02</td>\n      <td>24924.50</td>\n      <td>0</td>\n      <td>5.727778</td>\n      <td>2.572</td>\n      <td>0.0</td>\n      <td>0.0</td>\n      <td>0.0</td>\n      <td>0.0</td>\n      <td>0.0</td>\n      <td>211.096358</td>\n      <td>8.106</td>\n      <td>0</td>\n      <td>151315</td>\n    </tr>\n    <tr>\n      <th>1</th>\n      <td>1</td>\n      <td>1</td>\n      <td>2010-12-02</td>\n      <td>46039.49</td>\n      <td>1</td>\n      <td>3.616667</td>\n      <td>2.548</td>\n      <td>0.0</td>\n      <td>0.0</td>\n      <td>0.0</td>\n      <td>0.0</td>\n      <td>0.0</td>\n      <td>211.242170</td>\n      <td>8.106</td>\n      <td>0</td>\n      <td>151315</td>\n    </tr>\n    <tr>\n      <th>2</th>\n      <td>1</td>\n      <td>1</td>\n      <td>2010-02-19</td>\n      <td>41595.55</td>\n      <td>0</td>\n      <td>4.405556</td>\n      <td>2.514</td>\n      <td>0.0</td>\n      <td>0.0</td>\n      <td>0.0</td>\n      <td>0.0</td>\n      <td>0.0</td>\n      <td>211.289143</td>\n      <td>8.106</td>\n      <td>0</td>\n      <td>151315</td>\n    </tr>\n    <tr>\n      <th>3</th>\n      <td>1</td>\n      <td>1</td>\n      <td>2010-02-26</td>\n      <td>19403.54</td>\n      <td>0</td>\n      <td>8.127778</td>\n      <td>2.561</td>\n      <td>0.0</td>\n      <td>0.0</td>\n      <td>0.0</td>\n      <td>0.0</td>\n      <td>0.0</td>\n      <td>211.319643</td>\n      <td>8.106</td>\n      <td>0</td>\n      <td>151315</td>\n    </tr>\n    <tr>\n      <th>4</th>\n      <td>1</td>\n      <td>1</td>\n      <td>2010-05-03</td>\n      <td>21827.90</td>\n      <td>0</td>\n      <td>8.055556</td>\n      <td>2.625</td>\n      <td>0.0</td>\n      <td>0.0</td>\n      <td>0.0</td>\n      <td>0.0</td>\n      <td>0.0</td>\n      <td>211.350143</td>\n      <td>8.106</td>\n      <td>0</td>\n      <td>151315</td>\n    </tr>\n    <tr>\n      <th>5</th>\n      <td>1</td>\n      <td>1</td>\n      <td>2010-12-03</td>\n      <td>21043.39</td>\n      <td>0</td>\n      <td>14.327778</td>\n      <td>2.667</td>\n      <td>0.0</td>\n      <td>0.0</td>\n      <td>0.0</td>\n      <td>0.0</td>\n      <td>0.0</td>\n      <td>211.380643</td>\n      <td>8.106</td>\n      <td>0</td>\n      <td>151315</td>\n    </tr>\n    <tr>\n      <th>6</th>\n      <td>1</td>\n      <td>1</td>\n      <td>2010-03-19</td>\n      <td>22136.64</td>\n      <td>0</td>\n      <td>12.544444</td>\n      <td>2.720</td>\n      <td>0.0</td>\n      <td>0.0</td>\n      <td>0.0</td>\n      <td>0.0</td>\n      <td>0.0</td>\n      <td>211.215635</td>\n      <td>8.106</td>\n      <td>0</td>\n      <td>151315</td>\n    </tr>\n    <tr>\n      <th>7</th>\n      <td>1</td>\n      <td>1</td>\n      <td>2010-03-26</td>\n      <td>26229.21</td>\n      <td>0</td>\n      <td>10.805556</td>\n      <td>2.732</td>\n      <td>0.0</td>\n      <td>0.0</td>\n      <td>0.0</td>\n      <td>0.0</td>\n      <td>0.0</td>\n      <td>211.018042</td>\n      <td>8.106</td>\n      <td>0</td>\n      <td>151315</td>\n    </tr>\n    <tr>\n      <th>8</th>\n      <td>1</td>\n      <td>1</td>\n      <td>2010-02-04</td>\n      <td>57258.43</td>\n      <td>0</td>\n      <td>16.816667</td>\n      <td>2.719</td>\n      <td>0.0</td>\n      <td>0.0</td>\n      <td>0.0</td>\n      <td>0.0</td>\n      <td>0.0</td>\n      <td>210.820450</td>\n      <td>7.808</td>\n      <td>0</td>\n      <td>151315</td>\n    </tr>\n    <tr>\n      <th>9</th>\n      <td>1</td>\n      <td>1</td>\n      <td>2010-09-04</td>\n      <td>42960.91</td>\n      <td>0</td>\n      <td>18.811111</td>\n      <td>2.770</td>\n      <td>0.0</td>\n      <td>0.0</td>\n      <td>0.0</td>\n      <td>0.0</td>\n      <td>0.0</td>\n      <td>210.622857</td>\n      <td>7.808</td>\n      <td>0</td>\n      <td>151315</td>\n    </tr>\n    <tr>\n      <th>10</th>\n      <td>1</td>\n      <td>1</td>\n      <td>2010-04-16</td>\n      <td>17596.96</td>\n      <td>0</td>\n      <td>19.066667</td>\n      <td>2.808</td>\n      <td>0.0</td>\n      <td>0.0</td>\n      <td>0.0</td>\n      <td>0.0</td>\n      <td>0.0</td>\n      <td>210.488700</td>\n      <td>7.808</td>\n      <td>0</td>\n      <td>151315</td>\n    </tr>\n    <tr>\n      <th>11</th>\n      <td>1</td>\n      <td>1</td>\n      <td>2010-04-23</td>\n      <td>16145.35</td>\n      <td>0</td>\n      <td>18.244444</td>\n      <td>2.795</td>\n      <td>0.0</td>\n      <td>0.0</td>\n      <td>0.0</td>\n      <td>0.0</td>\n      <td>0.0</td>\n      <td>210.439123</td>\n      <td>7.808</td>\n      <td>0</td>\n      <td>151315</td>\n    </tr>\n    <tr>\n      <th>12</th>\n      <td>1</td>\n      <td>1</td>\n      <td>2010-04-30</td>\n      <td>16555.11</td>\n      <td>0</td>\n      <td>19.672222</td>\n      <td>2.780</td>\n      <td>0.0</td>\n      <td>0.0</td>\n      <td>0.0</td>\n      <td>0.0</td>\n      <td>0.0</td>\n      <td>210.389546</td>\n      <td>7.808</td>\n      <td>0</td>\n      <td>151315</td>\n    </tr>\n    <tr>\n      <th>13</th>\n      <td>1</td>\n      <td>1</td>\n      <td>2010-07-05</td>\n      <td>17413.94</td>\n      <td>0</td>\n      <td>22.527778</td>\n      <td>2.835</td>\n      <td>0.0</td>\n      <td>0.0</td>\n      <td>0.0</td>\n      <td>0.0</td>\n      <td>0.0</td>\n      <td>210.339968</td>\n      <td>7.808</td>\n      <td>0</td>\n      <td>151315</td>\n    </tr>\n    <tr>\n      <th>14</th>\n      <td>1</td>\n      <td>1</td>\n      <td>2010-05-14</td>\n      <td>18926.74</td>\n      <td>0</td>\n      <td>23.766667</td>\n      <td>2.854</td>\n      <td>0.0</td>\n      <td>0.0</td>\n      <td>0.0</td>\n      <td>0.0</td>\n      <td>0.0</td>\n      <td>210.337426</td>\n      <td>7.808</td>\n      <td>0</td>\n      <td>151315</td>\n    </tr>\n  </tbody>\n</table>\n</div>"
     },
     "metadata": {},
     "execution_count": 9
    }
   ],
   "source": [
    "total.head(15)"
   ]
  },
  {
   "cell_type": "code",
   "execution_count": null,
   "metadata": {},
   "outputs": [],
   "source": []
  }
 ]
}