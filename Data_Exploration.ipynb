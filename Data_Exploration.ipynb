{
 "nbformat": 4,
 "nbformat_minor": 2,
 "metadata": {
  "language_info": {
   "name": "python",
   "codemirror_mode": {
    "name": "ipython",
    "version": 3
   },
   "version": "3.7.4-final"
  },
  "orig_nbformat": 2,
  "file_extension": ".py",
  "mimetype": "text/x-python",
  "name": "python",
  "npconvert_exporter": "python",
  "pygments_lexer": "ipython3",
  "version": 3,
  "kernelspec": {
   "name": "python3",
   "display_name": "Python 3"
  }
 },
 "cells": [
  {
   "cell_type": "code",
   "execution_count": 1,
   "metadata": {},
   "outputs": [],
   "source": [
    "import pandas as pd\n",
    "\n",
    "#import datasets\n",
    "features = pd.read_csv(r'C:\\Users\\Lukas\\Desktop\\Übung\\retaildataset\\features.csv')\n",
    "sales = pd.read_csv(r'C:\\Users\\Lukas\\Desktop\\Übung\\retaildataset\\sales.csv')\n",
    "stores = pd.read_csv(r'C:\\Users\\Lukas\\Desktop\\Übung\\retaildataset\\stores.csv')\n",
    "\n",
    "\n",
    "#align date column\n",
    "features['Date'] = pd.to_datetime(features['Date'])\n",
    "sales['Date'] = pd.to_datetime(sales['Date'])\n",
    "\n",
    "#merge dataframes\n",
    "total = pd.merge(sales,features, on = ['Store','Date', 'IsHoliday'], how = 'left')\n",
    "total = pd.merge(total,stores, on = ['Store'], how = 'left')\n",
    "\n",
    "#fill NAs with 0\n",
    "total = total.fillna(0)\n",
    "\n",
    "#encode column 'Type' as numbers\n",
    "types_encoded, types = total['Type'].factorize()\n",
    "total['Type'] = types_encoded\n",
    "\n",
    "#change temperature to degrees celsius"
   ]
  }
 ]
}